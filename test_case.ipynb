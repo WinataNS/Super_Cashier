{
 "cells": [
  {
   "cell_type": "code",
   "execution_count": 3,
   "id": "14d658ae",
   "metadata": {},
   "outputs": [],
   "source": [
    "import module_cashier as mc"
   ]
  },
  {
   "cell_type": "code",
   "execution_count": 4,
   "id": "1a287083",
   "metadata": {},
   "outputs": [
    {
     "name": "stdout",
     "output_type": "stream",
     "text": [
      "Test Case 1\n",
      "\n",
      "\n",
      "Item berhasil ditambahkan ke dalam keranjang\n",
      "Item Name     : Ayam Goreng\n",
      "Quantity      : 2\n",
      "Price         : Rp. 20000\n",
      "Item berhasil ditambahkan ke dalam keranjang\n",
      "Item Name     : Pasta Gigi\n",
      "Quantity      : 3\n",
      "Price         : Rp. 15000\n",
      "\n",
      "\n",
      "Berikut adalah transaksi belanja Anda :\n",
      "    Item           Qty    Price    Total_Price\n",
      "--  -----------  -----  -------  -------------\n",
      " 0  Ayam Goreng      2    20000          40000\n",
      " 1  Pasta Gigi       3    15000          45000\n",
      "Total pembayaran sebesar Rp.85000\n"
     ]
    }
   ],
   "source": [
    "# Test Case 1: Menambahkan dua item baru\n",
    "user = mc.Transaction()\n",
    "print(\"Test Case 1\")\n",
    "print(\"\\n\")\n",
    "user.add_item(\"Ayam Goreng\", 2, 20_000)\n",
    "user.add_item(\"Pasta Gigi\", 3, 15_000)\n",
    "print(\"\\n\")\n",
    "print(\"Berikut adalah transaksi belanja Anda :\")\n",
    "user.check_order()\n",
    "user.total_price()"
   ]
  },
  {
   "cell_type": "code",
   "execution_count": 5,
   "id": "2b1077bc",
   "metadata": {},
   "outputs": [
    {
     "name": "stdout",
     "output_type": "stream",
     "text": [
      "Berhasil menghapus item Pasta Gigi dari dalam keranjang\n",
      "\n",
      "Berikut adalah transaksi belanja Anda :\n",
      "    Item           Qty    Price    Total_Price\n",
      "--  -----------  -----  -------  -------------\n",
      " 0  Ayam Goreng      2    20000          40000\n",
      "Total pembayaran sebesar Rp.40000\n"
     ]
    }
   ],
   "source": [
    "# Test Case 2: Menghapus salah satu item\n",
    "user.delete_item(\"Pasta Gigi\")\n",
    "print(\"Berikut adalah transaksi belanja Anda :\")\n",
    "user.check_order()\n",
    "user.total_price()"
   ]
  },
  {
   "cell_type": "code",
   "execution_count": 6,
   "id": "fe7b978e",
   "metadata": {},
   "outputs": [
    {
     "name": "stdout",
     "output_type": "stream",
     "text": [
      "Keranjang telah dikosongkan\n",
      "Item    Qty    Price\n",
      "------  -----  -------\n"
     ]
    }
   ],
   "source": [
    "# Test Case 3: Menghapus semua item\n",
    "user.reset_transaction()"
   ]
  },
  {
   "cell_type": "code",
   "execution_count": 8,
   "id": "39cdb7f4",
   "metadata": {},
   "outputs": [
    {
     "name": "stdout",
     "output_type": "stream",
     "text": [
      "Item berhasil ditambahkan ke dalam keranjang\n",
      "Item Name     : Ayam Goreng\n",
      "Quantity      : 2\n",
      "Price         : Rp. 20000\n",
      "Item berhasil ditambahkan ke dalam keranjang\n",
      "Item Name     : Pasta Gigi\n",
      "Quantity      : 3\n",
      "Price         : Rp. 15000\n",
      "Item berhasil ditambahkan ke dalam keranjang\n",
      "Item Name     : Mainan Mobil\n",
      "Quantity      : 1\n",
      "Price         : Rp. 200000\n",
      "Item berhasil ditambahkan ke dalam keranjang\n",
      "Item Name     : Mie Instan\n",
      "Quantity      : 5\n",
      "Price         : Rp. 3000\n",
      "\n",
      "\n",
      "Tabel Pemesanan :\n",
      "    Item            Qty    Price    Total_Price\n",
      "--  ------------  -----  -------  -------------\n",
      " 0  Ayam Goreng       2    20000          40000\n",
      " 1  Pasta Gigi        3    15000          45000\n",
      " 2  Mainan Mobil      1   200000         200000\n",
      " 3  Mie Instan        5     3000          15000\n",
      "Total harga item sebesar Rp.300000 \n",
      "Diskon sebesar 5% \n",
      "Total pembayaran sebesar Rp.285000\n"
     ]
    }
   ],
   "source": [
    "# Test Case 4: Menghitung total belanja\n",
    "user.add_item(\"Ayam Goreng\", 2, 20_000)\n",
    "user.add_item(\"Pasta Gigi\", 3, 15_000)\n",
    "user.add_item(\"Mainan Mobil\", 1, 200_000)\n",
    "user.add_item(\"Mie Instan\", 5, 3_000)\n",
    "print(\"\\n\")\n",
    "print(\"Tabel Pemesanan :\")\n",
    "user.check_order()\n",
    "user.total_price()"
   ]
  },
  {
   "cell_type": "code",
   "execution_count": 9,
   "id": "c0819316",
   "metadata": {},
   "outputs": [
    {
     "name": "stdout",
     "output_type": "stream",
     "text": [
      "Tabel Pemesanan before Update:\n",
      "    Item            Qty    Price    Total_Price\n",
      "--  ------------  -----  -------  -------------\n",
      " 0  Ayam Goreng       2    20000          40000\n",
      " 1  Pasta Gigi        3    15000          45000\n",
      " 2  Mainan Mobil      1   200000         200000\n",
      " 3  Mie Instan        5     3000          15000\n",
      "Total harga item sebesar Rp.300000 \n",
      "Diskon sebesar 5% \n",
      "Total pembayaran sebesar Rp.285000\n",
      "\n",
      "\n",
      "Berhasil memperbaharui item Pasta Gigi menjadi Sabun Mandi\n",
      "Berhasil memperbaharui jumlah item Ayam Goreng menjadi 3\n",
      "Berhasil memperbaharui harga item Mie Instan menjadi 3500\n",
      "\n",
      "\n",
      "Tabel Pemesanan after Update:\n",
      "    Item            Qty    Price    Total_Price\n",
      "--  ------------  -----  -------  -------------\n",
      " 0  Ayam Goreng       3    20000          60000\n",
      " 1  Sabun Mandi       3    15000          45000\n",
      " 2  Mainan Mobil      1   200000         200000\n",
      " 3  Mie Instan        5     3500          17500\n",
      "Total harga item sebesar Rp.322500 \n",
      "Diskon sebesar 8% \n",
      "Total pembayaran sebesar Rp.296700\n"
     ]
    }
   ],
   "source": [
    "# Test Case 5: Memperbaharui Item, Quantity, dan Harga\n",
    "print(\"Tabel Pemesanan before Update:\")\n",
    "user.check_order()\n",
    "user.total_price()\n",
    "print(\"\\n\")\n",
    "user.update_item_name(\"Pasta Gigi\", \"Sabun Mandi\")\n",
    "user.update_item_quantity(\"Ayam Goreng\", 3)\n",
    "user.update_item_price(\"Mie Instan\", 3_500)\n",
    "print(\"\\n\")\n",
    "print(\"Tabel Pemesanan after Update:\")\n",
    "user.check_order()\n",
    "user.total_price()"
   ]
  },
  {
   "cell_type": "code",
   "execution_count": 10,
   "id": "208ae798",
   "metadata": {},
   "outputs": [
    {
     "name": "stdout",
     "output_type": "stream",
     "text": [
      "Tipe data untuk item_qty harus Integer dan lebih besar dari 0\n"
     ]
    }
   ],
   "source": [
    "# Test Case 6: Kesalahan Input\n",
    "user.add_item(\"Gula\", -25, 10_000)"
   ]
  },
  {
   "cell_type": "code",
   "execution_count": 11,
   "id": "aadf4701",
   "metadata": {},
   "outputs": [
    {
     "name": "stdout",
     "output_type": "stream",
     "text": [
      "Tipe data untuk item_qty harus Integer dan lebih besar dari 0\n"
     ]
    }
   ],
   "source": [
    "# Test Case 7: Kesalahan Input\n",
    "user.add_item(\"Gula\", \"Lima\", 10_000)"
   ]
  },
  {
   "cell_type": "code",
   "execution_count": null,
   "id": "fd08526a",
   "metadata": {},
   "outputs": [],
   "source": []
  }
 ],
 "metadata": {
  "kernelspec": {
   "display_name": "Python 3 (ipykernel)",
   "language": "python",
   "name": "python3"
  },
  "language_info": {
   "codemirror_mode": {
    "name": "ipython",
    "version": 3
   },
   "file_extension": ".py",
   "mimetype": "text/x-python",
   "name": "python",
   "nbconvert_exporter": "python",
   "pygments_lexer": "ipython3",
   "version": "3.9.13"
  }
 },
 "nbformat": 4,
 "nbformat_minor": 5
}
