{
 "cells": [
  {
   "cell_type": "code",
   "execution_count": 6,
   "id": "bddd88a5",
   "metadata": {},
   "outputs": [],
   "source": [
    "import module_cashier as mc"
   ]
  },
  {
   "cell_type": "code",
   "execution_count": 7,
   "id": "79bdb647",
   "metadata": {},
   "outputs": [
    {
     "name": "stdout",
     "output_type": "stream",
     "text": [
      "Item berhasil ditambahkan ke dalam keranjang\n",
      "Item Name     : Ayam Goreng\n",
      "Quantity      : 2\n",
      "Price         : Rp. 20000\n",
      "Item berhasil ditambahkan ke dalam keranjang\n",
      "Item Name     : Pasta Gigi\n",
      "Quantity      : 3\n",
      "Price         : Rp. 15000\n",
      "\n",
      "\n",
      "    Item           Qty    Price    Total_Price\n",
      "--  -----------  -----  -------  -------------\n",
      " 0  Ayam Goreng      2    20000          40000\n",
      " 1  Pasta Gigi       3    15000          45000\n"
     ]
    }
   ],
   "source": [
    "# Test Case\n",
    "user = mc.Transaction()\n",
    "user.add_item(\"Ayam Goreng\", 2, 20_000)\n",
    "user.add_item(\"Pasta Gigi\", 3, 15_000)\n",
    "print(\"\\n\")\n",
    "user.check_order()"
   ]
  },
  {
   "cell_type": "code",
   "execution_count": 8,
   "id": "c57da5a2",
   "metadata": {},
   "outputs": [
    {
     "name": "stdout",
     "output_type": "stream",
     "text": [
      "Berhasil menghapus item Pasta Gigi dari dalam keranjang\n",
      "\n",
      "\n",
      "\n",
      "    Item           Qty    Price    Total_Price\n",
      "--  -----------  -----  -------  -------------\n",
      " 0  Ayam Goreng      2    20000          40000\n"
     ]
    }
   ],
   "source": [
    "# Test Case 2: Menghapus salah satu item\n",
    "user.delete_item(\"Pasta Gigi\")\n",
    "print(\"\\n\")\n",
    "user.check_order()"
   ]
  },
  {
   "cell_type": "code",
   "execution_count": 9,
   "id": "d3a7be02",
   "metadata": {},
   "outputs": [
    {
     "name": "stdout",
     "output_type": "stream",
     "text": [
      "Keranjang telah dikosongkan\n",
      "Item    Qty    Price\n",
      "------  -----  -------\n"
     ]
    }
   ],
   "source": [
    "# Test Case 3: Menghapus semua item\n",
    "user.reset_transaction()"
   ]
  },
  {
   "cell_type": "code",
   "execution_count": 10,
   "id": "851da564",
   "metadata": {},
   "outputs": [
    {
     "name": "stdout",
     "output_type": "stream",
     "text": [
      "Item berhasil ditambahkan ke dalam keranjang\n",
      "Item Name     : Ayam Goreng\n",
      "Quantity      : 2\n",
      "Price         : Rp. 20000\n",
      "Item berhasil ditambahkan ke dalam keranjang\n",
      "Item Name     : Pasta Gigi\n",
      "Quantity      : 3\n",
      "Price         : Rp. 15000\n",
      "Item berhasil ditambahkan ke dalam keranjang\n",
      "Item Name     : Mainan Mobil\n",
      "Quantity      : 1\n",
      "Price         : Rp. 200000\n",
      "Item berhasil ditambahkan ke dalam keranjang\n",
      "Item Name     : Mie Instan\n",
      "Quantity      : 5\n",
      "Price         : Rp. 3000\n",
      "\n",
      "\n",
      "Rincian Keranjang :\n",
      "    Item            Qty    Price    Total_Price\n",
      "--  ------------  -----  -------  -------------\n",
      " 0  Ayam Goreng       2    20000          40000\n",
      " 1  Pasta Gigi        3    15000          45000\n",
      " 2  Mainan Mobil      1   200000         200000\n",
      " 3  Mie Instan        5     3000          15000\n",
      "\n",
      "\n",
      "Total harga item sebesar Rp.300000 \n",
      "Diskon sebesar 5% \n",
      "Total pembayaran sebesar Rp.285000\n"
     ]
    }
   ],
   "source": [
    "# Test Case 4: Menghitung total belanja\n",
    "user.add_item(\"Ayam Goreng\", 2, 20_000)\n",
    "user.add_item(\"Pasta Gigi\", 3, 15_000)\n",
    "user.add_item(\"Mainan Mobil\", 1, 200_000)\n",
    "user.add_item(\"Mie Instan\", 5, 3_000)\n",
    "print(\"\\n\")\n",
    "print(\"Rincian Keranjang :\")\n",
    "user.check_order()\n",
    "print(\"\\n\")\n",
    "user.total_price()"
   ]
  },
  {
   "cell_type": "code",
   "execution_count": null,
   "id": "4168e8a1",
   "metadata": {},
   "outputs": [],
   "source": []
  }
 ],
 "metadata": {
  "kernelspec": {
   "display_name": "Python 3 (ipykernel)",
   "language": "python",
   "name": "python3"
  },
  "language_info": {
   "codemirror_mode": {
    "name": "ipython",
    "version": 3
   },
   "file_extension": ".py",
   "mimetype": "text/x-python",
   "name": "python",
   "nbconvert_exporter": "python",
   "pygments_lexer": "ipython3",
   "version": "3.9.13"
  }
 },
 "nbformat": 4,
 "nbformat_minor": 5
}
